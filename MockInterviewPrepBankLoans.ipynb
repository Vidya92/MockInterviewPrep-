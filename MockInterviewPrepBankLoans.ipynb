{
  "nbformat": 4,
  "nbformat_minor": 0,
  "metadata": {
    "colab": {
      "name": "MockInterviewPrepBankLoans.ipynb",
      "provenance": [],
      "authorship_tag": "ABX9TyNp/OtdfkbkexTB6YdwNQLy",
      "include_colab_link": true
    },
    "kernelspec": {
      "name": "python3",
      "display_name": "Python 3"
    },
    "language_info": {
      "name": "python"
    }
  },
  "cells": [
    {
      "cell_type": "markdown",
      "metadata": {
        "id": "view-in-github",
        "colab_type": "text"
      },
      "source": [
        "<a href=\"https://colab.research.google.com/github/Vidya92/MockInterviewPrep-/blob/main/MockInterviewPrepBankLoans.ipynb\" target=\"_parent\"><img src=\"https://colab.research.google.com/assets/colab-badge.svg\" alt=\"Open In Colab\"/></a>"
      ]
    },
    {
      "cell_type": "code",
      "metadata": {
        "id": "pvIefLB8sTkA"
      },
      "source": [
        "#Bank Loans Dataset from Kaggle "
      ],
      "execution_count": null,
      "outputs": []
    },
    {
      "cell_type": "code",
      "metadata": {
        "id": "w1I6sz15sU8o"
      },
      "source": [
        "import numpy as np \n",
        "import pandas as pd"
      ],
      "execution_count": null,
      "outputs": []
    },
    {
      "cell_type": "code",
      "metadata": {
        "id": "yvF61Ov1sWcy"
      },
      "source": [
        "BankData=pd.read_csv('https://raw.githubusercontent.com/Vidya92/MockInterviewPrep-/main/BankLoans.csv')\n",
        "CustomerInfo=pd.read_csv('https://raw.githubusercontent.com/Vidya92/MockInterviewPrep-/main/BankCustomerInfo.csv')"
      ],
      "execution_count": null,
      "outputs": []
    },
    {
      "cell_type": "code",
      "metadata": {
        "id": "jOWg0toIsaK5"
      },
      "source": [
        "#Merge the two datasets. #We want to keep all the information "
      ],
      "execution_count": null,
      "outputs": []
    },
    {
      "cell_type": "code",
      "metadata": {
        "id": "t8Q3Tf-Dsd7v"
      },
      "source": [
        "#Which columns have missing values and how much? "
      ],
      "execution_count": null,
      "outputs": []
    },
    {
      "cell_type": "code",
      "metadata": {
        "id": "Yqv0AM2PsgbT"
      },
      "source": [
        "#Can you tell me the average monthly debt by home ownership status? "
      ],
      "execution_count": null,
      "outputs": []
    },
    {
      "cell_type": "code",
      "metadata": {
        "id": "9A7GLNlVsiQx"
      },
      "source": [
        "#Can you make a plot of average monthly debt by those who have been at current job for at least 3 years.  "
      ],
      "execution_count": null,
      "outputs": []
    },
    {
      "cell_type": "code",
      "metadata": {
        "id": "PdZsWXemsj2T"
      },
      "source": [
        "#Make a plot to show some relation between any two continuous variables. "
      ],
      "execution_count": null,
      "outputs": []
    },
    {
      "cell_type": "code",
      "metadata": {
        "id": "Qy2KByWosmAI"
      },
      "source": [
        "#How many people who took the loan for Debt Consolidation have a Fully Paid loan status? "
      ],
      "execution_count": null,
      "outputs": []
    }
  ]
}