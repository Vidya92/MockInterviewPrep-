{
  "nbformat": 4,
  "nbformat_minor": 0,
  "metadata": {
    "colab": {
      "name": "MockInterviewPrep.ipynb",
      "provenance": [],
      "collapsed_sections": [],
      "authorship_tag": "ABX9TyNH+/V5EY+oXm9XNoBwchff",
      "include_colab_link": true
    },
    "kernelspec": {
      "name": "python3",
      "display_name": "Python 3"
    },
    "language_info": {
      "name": "python"
    }
  },
  "cells": [
    {
      "cell_type": "markdown",
      "metadata": {
        "id": "view-in-github",
        "colab_type": "text"
      },
      "source": [
        "<a href=\"https://colab.research.google.com/github/Vidya92/MockInterviewPrep-/blob/main/MockInterviewPrep.ipynb\" target=\"_parent\"><img src=\"https://colab.research.google.com/assets/colab-badge.svg\" alt=\"Open In Colab\"/></a>"
      ]
    },
    {
      "cell_type": "code",
      "metadata": {
        "id": "zL_mYAuheRBy"
      },
      "source": [
        "#Avocado dataset!! "
      ],
      "execution_count": null,
      "outputs": []
    },
    {
      "cell_type": "code",
      "metadata": {
        "id": "IFg9DuqUm9Kr"
      },
      "source": [
        "import numpy as np \n",
        "import pandas as pd "
      ],
      "execution_count": 2,
      "outputs": []
    },
    {
      "cell_type": "code",
      "metadata": {
        "id": "3Y_2gH9oebc-"
      },
      "source": [
        "#let's load Avocado Data! \n",
        "AvocadoSold=pd.read_csv('https://raw.githubusercontent.com/Vidya92/MockInterviewPrep-/main/AvocadoSold.csv')\n",
        "MoreAvocados=pd.read_csv('https://raw.githubusercontent.com/Vidya92/MockInterviewPrep-/main/MoreAvocados%20.csv')"
      ],
      "execution_count": 105,
      "outputs": []
    },
    {
      "cell_type": "code",
      "metadata": {
        "colab": {
          "base_uri": "https://localhost:8080/"
        },
        "id": "5W6-syaielY8",
        "outputId": "185f4974-41cc-48bd-b965-034af5d406d1"
      },
      "source": [
        "#Print shape of both datasets \n",
        "AvocadoSold.shape"
      ],
      "execution_count": 106,
      "outputs": [
        {
          "output_type": "execute_result",
          "data": {
            "text/plain": [
              "(1861, 9)"
            ]
          },
          "metadata": {},
          "execution_count": 106
        }
      ]
    },
    {
      "cell_type": "code",
      "metadata": {
        "colab": {
          "base_uri": "https://localhost:8080/"
        },
        "id": "X5gYfX26JV6t",
        "outputId": "fdcccb65-9c04-48dc-c42e-a1bac7139976"
      },
      "source": [
        "MoreAvocados.shape"
      ],
      "execution_count": 107,
      "outputs": [
        {
          "output_type": "execute_result",
          "data": {
            "text/plain": [
              "(505, 9)"
            ]
          },
          "metadata": {},
          "execution_count": 107
        }
      ]
    },
    {
      "cell_type": "code",
      "metadata": {
        "id": "wA8djjL8eprs"
      },
      "source": [
        "#Add the data from More Avocados into Avocados Sold. #should we check anything before we do? #what can we do to do a quick check that it worked?  \n",
        "Avocado=pd.concat([AvocadoSold,MoreAvocados])"
      ],
      "execution_count": 108,
      "outputs": []
    },
    {
      "cell_type": "code",
      "metadata": {
        "colab": {
          "base_uri": "https://localhost:8080/",
          "height": 204
        },
        "id": "VNMLBVldv32m",
        "outputId": "7af0c46c-bf07-41c1-802d-119b2d52cb07"
      },
      "source": [
        "Avocado.shape\n",
        "Avocado.head()"
      ],
      "execution_count": 109,
      "outputs": [
        {
          "output_type": "execute_result",
          "data": {
            "text/html": [
              "<div>\n",
              "<style scoped>\n",
              "    .dataframe tbody tr th:only-of-type {\n",
              "        vertical-align: middle;\n",
              "    }\n",
              "\n",
              "    .dataframe tbody tr th {\n",
              "        vertical-align: top;\n",
              "    }\n",
              "\n",
              "    .dataframe thead th {\n",
              "        text-align: right;\n",
              "    }\n",
              "</style>\n",
              "<table border=\"1\" class=\"dataframe\">\n",
              "  <thead>\n",
              "    <tr style=\"text-align: right;\">\n",
              "      <th></th>\n",
              "      <th>Date</th>\n",
              "      <th>AveragePricePerUnit</th>\n",
              "      <th>TotalVolume</th>\n",
              "      <th>TotalBags</th>\n",
              "      <th>SmallBags</th>\n",
              "      <th>LargeBags</th>\n",
              "      <th>XLargeBags</th>\n",
              "      <th>type</th>\n",
              "      <th>region</th>\n",
              "    </tr>\n",
              "  </thead>\n",
              "  <tbody>\n",
              "    <tr>\n",
              "      <th>0</th>\n",
              "      <td>12/27/2015</td>\n",
              "      <td>0.83</td>\n",
              "      <td>5291979.63</td>\n",
              "      <td>1410681.68</td>\n",
              "      <td>838267.79</td>\n",
              "      <td>567269.76</td>\n",
              "      <td>5144.13</td>\n",
              "      <td>conventional</td>\n",
              "      <td>West</td>\n",
              "    </tr>\n",
              "    <tr>\n",
              "      <th>1</th>\n",
              "      <td>12/20/2015</td>\n",
              "      <td>0.88</td>\n",
              "      <td>4737649.03</td>\n",
              "      <td>1274757.19</td>\n",
              "      <td>843691.13</td>\n",
              "      <td>417746.45</td>\n",
              "      <td>13319.61</td>\n",
              "      <td>conventional</td>\n",
              "      <td>West</td>\n",
              "    </tr>\n",
              "    <tr>\n",
              "      <th>2</th>\n",
              "      <td>12/13/2015</td>\n",
              "      <td>0.85</td>\n",
              "      <td>4899439.92</td>\n",
              "      <td>1370013.83</td>\n",
              "      <td>851506.76</td>\n",
              "      <td>517936.19</td>\n",
              "      <td>570.88</td>\n",
              "      <td>conventional</td>\n",
              "      <td>West</td>\n",
              "    </tr>\n",
              "    <tr>\n",
              "      <th>3</th>\n",
              "      <td>12/6/2015</td>\n",
              "      <td>0.75</td>\n",
              "      <td>6202513.84</td>\n",
              "      <td>1945832.15</td>\n",
              "      <td>1360760.83</td>\n",
              "      <td>582846.33</td>\n",
              "      <td>2224.99</td>\n",
              "      <td>conventional</td>\n",
              "      <td>West</td>\n",
              "    </tr>\n",
              "    <tr>\n",
              "      <th>4</th>\n",
              "      <td>11/29/2015</td>\n",
              "      <td>0.99</td>\n",
              "      <td>3719603.21</td>\n",
              "      <td>936710.91</td>\n",
              "      <td>688674.00</td>\n",
              "      <td>247318.15</td>\n",
              "      <td>718.76</td>\n",
              "      <td>conventional</td>\n",
              "      <td>West</td>\n",
              "    </tr>\n",
              "  </tbody>\n",
              "</table>\n",
              "</div>"
            ],
            "text/plain": [
              "         Date  AveragePricePerUnit  ...          type  region\n",
              "0  12/27/2015                 0.83  ...  conventional    West\n",
              "1  12/20/2015                 0.88  ...  conventional    West\n",
              "2  12/13/2015                 0.85  ...  conventional    West\n",
              "3   12/6/2015                 0.75  ...  conventional    West\n",
              "4  11/29/2015                 0.99  ...  conventional    West\n",
              "\n",
              "[5 rows x 9 columns]"
            ]
          },
          "metadata": {},
          "execution_count": 109
        }
      ]
    },
    {
      "cell_type": "code",
      "metadata": {
        "colab": {
          "base_uri": "https://localhost:8080/"
        },
        "id": "Q73H7AHewYb7",
        "outputId": "144e6680-94f3-4bb3-dfd6-c9f448f1f1e8"
      },
      "source": [
        "#Do we have missing values? Where? What can we do? \n",
        "Avocado.isna().mean() #looks like 95% of XLarge Bags is missing. let's drop it. "
      ],
      "execution_count": 110,
      "outputs": [
        {
          "output_type": "execute_result",
          "data": {
            "text/plain": [
              "Date                   0.000000\n",
              "AveragePricePerUnit    0.000000\n",
              "TotalVolume            0.000000\n",
              "TotalBags              0.000000\n",
              "SmallBags              0.000000\n",
              "LargeBags              0.000000\n",
              "XLargeBags             0.948859\n",
              "type                   0.000000\n",
              "region                 0.000000\n",
              "dtype: float64"
            ]
          },
          "metadata": {},
          "execution_count": 110
        }
      ]
    },
    {
      "cell_type": "code",
      "metadata": {
        "id": "qYf3UBJlLzhn"
      },
      "source": [
        "Avocado.drop(['XLargeBags'],inplace=True,axis=1) "
      ],
      "execution_count": 111,
      "outputs": []
    },
    {
      "cell_type": "code",
      "metadata": {
        "colab": {
          "base_uri": "https://localhost:8080/",
          "height": 204
        },
        "id": "cze3RhvBMhvt",
        "outputId": "30b62ed3-811b-45c2-f8aa-db2262c55a49"
      },
      "source": [
        "Avocado.head()"
      ],
      "execution_count": 63,
      "outputs": [
        {
          "output_type": "execute_result",
          "data": {
            "text/html": [
              "<div>\n",
              "<style scoped>\n",
              "    .dataframe tbody tr th:only-of-type {\n",
              "        vertical-align: middle;\n",
              "    }\n",
              "\n",
              "    .dataframe tbody tr th {\n",
              "        vertical-align: top;\n",
              "    }\n",
              "\n",
              "    .dataframe thead th {\n",
              "        text-align: right;\n",
              "    }\n",
              "</style>\n",
              "<table border=\"1\" class=\"dataframe\">\n",
              "  <thead>\n",
              "    <tr style=\"text-align: right;\">\n",
              "      <th></th>\n",
              "      <th>Date</th>\n",
              "      <th>AveragePricePerUnit</th>\n",
              "      <th>TotalVolume</th>\n",
              "      <th>SmallBags</th>\n",
              "      <th>LargeBags</th>\n",
              "      <th>type</th>\n",
              "      <th>region</th>\n",
              "      <th>TotalBags</th>\n",
              "      <th>Year</th>\n",
              "    </tr>\n",
              "  </thead>\n",
              "  <tbody>\n",
              "    <tr>\n",
              "      <th>8576</th>\n",
              "      <td>2015-07-05</td>\n",
              "      <td>1.85</td>\n",
              "      <td>3162.45</td>\n",
              "      <td>0.0</td>\n",
              "      <td>0.0</td>\n",
              "      <td>organic</td>\n",
              "      <td>Spokane</td>\n",
              "      <td>0.0</td>\n",
              "      <td>2015</td>\n",
              "    </tr>\n",
              "    <tr>\n",
              "      <th>4524</th>\n",
              "      <td>2015-10-11</td>\n",
              "      <td>2.66</td>\n",
              "      <td>14031.73</td>\n",
              "      <td>0.0</td>\n",
              "      <td>0.0</td>\n",
              "      <td>organic</td>\n",
              "      <td>SanFrancisco</td>\n",
              "      <td>0.0</td>\n",
              "      <td>2015</td>\n",
              "    </tr>\n",
              "    <tr>\n",
              "      <th>11986</th>\n",
              "      <td>2015-04-12</td>\n",
              "      <td>1.54</td>\n",
              "      <td>28220.45</td>\n",
              "      <td>0.0</td>\n",
              "      <td>0.0</td>\n",
              "      <td>organic</td>\n",
              "      <td>SanFrancisco</td>\n",
              "      <td>0.0</td>\n",
              "      <td>2015</td>\n",
              "    </tr>\n",
              "    <tr>\n",
              "      <th>8845</th>\n",
              "      <td>2015-06-28</td>\n",
              "      <td>1.71</td>\n",
              "      <td>46229.47</td>\n",
              "      <td>0.0</td>\n",
              "      <td>0.0</td>\n",
              "      <td>organic</td>\n",
              "      <td>Seattle</td>\n",
              "      <td>0.0</td>\n",
              "      <td>2015</td>\n",
              "    </tr>\n",
              "    <tr>\n",
              "      <th>8864</th>\n",
              "      <td>2015-06-28</td>\n",
              "      <td>1.61</td>\n",
              "      <td>4088.37</td>\n",
              "      <td>0.0</td>\n",
              "      <td>0.0</td>\n",
              "      <td>organic</td>\n",
              "      <td>Spokane</td>\n",
              "      <td>0.0</td>\n",
              "      <td>2015</td>\n",
              "    </tr>\n",
              "  </tbody>\n",
              "</table>\n",
              "</div>"
            ],
            "text/plain": [
              "            Date  AveragePricePerUnit  ...  TotalBags  Year\n",
              "8576  2015-07-05                 1.85  ...        0.0  2015\n",
              "4524  2015-10-11                 2.66  ...        0.0  2015\n",
              "11986 2015-04-12                 1.54  ...        0.0  2015\n",
              "8845  2015-06-28                 1.71  ...        0.0  2015\n",
              "8864  2015-06-28                 1.61  ...        0.0  2015\n",
              "\n",
              "[5 rows x 9 columns]"
            ]
          },
          "metadata": {},
          "execution_count": 63
        }
      ]
    },
    {
      "cell_type": "code",
      "metadata": {
        "id": "cDR57pz3NvOV"
      },
      "source": [
        "#since we dropped the XLarge bags, does the TotalBags amount make sense? How do we replace it? \n",
        "Avocado.drop(['TotalBags'],inplace=True,axis=1)\n",
        "Avocado['TotalBags']=Avocado['SmallBags']+Avocado['LargeBags']"
      ],
      "execution_count": 112,
      "outputs": []
    },
    {
      "cell_type": "code",
      "metadata": {
        "colab": {
          "base_uri": "https://localhost:8080/"
        },
        "id": "l9PM9_-2PmAT",
        "outputId": "0fceef1c-1427-427f-a6ba-295cfab59695"
      },
      "source": [
        "#how many types of avocado are there \n",
        "Avocado['type'].unique() #there's conventional and organic "
      ],
      "execution_count": 113,
      "outputs": [
        {
          "output_type": "execute_result",
          "data": {
            "text/plain": [
              "array(['conventional', 'organic'], dtype=object)"
            ]
          },
          "metadata": {},
          "execution_count": 113
        }
      ]
    },
    {
      "cell_type": "code",
      "metadata": {
        "id": "3FQwQel9P3HN"
      },
      "source": [
        "#I want to see (visually) on average, which type of avocado sold the most for each year. Show a graph as well as a table \n",
        "import datetime as dt \n",
        "import seaborn as sb \n",
        "import matplotlib.pyplot as plt\n"
      ],
      "execution_count": 114,
      "outputs": []
    },
    {
      "cell_type": "code",
      "metadata": {
        "id": "8Nq1SzGnQA7z"
      },
      "source": [
        "Avocado['Date']=pd.to_datetime(Avocado['Date'],infer_datetime_format=True,errors='coerce')\n",
        "Avocado['Year']=Avocado['Date'].dt.year  #4 unique years"
      ],
      "execution_count": 115,
      "outputs": []
    },
    {
      "cell_type": "code",
      "metadata": {
        "colab": {
          "base_uri": "https://localhost:8080/",
          "height": 386
        },
        "id": "nOMBY_2BSIIs",
        "outputId": "c3afaa37-3b06-4345-adeb-0ef7317c8006"
      },
      "source": [
        "sb.catplot(x='Year',y='TotalBags',hue='type',kind='bar',data=Avocado)"
      ],
      "execution_count": 116,
      "outputs": [
        {
          "output_type": "execute_result",
          "data": {
            "text/plain": [
              "<seaborn.axisgrid.FacetGrid at 0x7f27a4004f10>"
            ]
          },
          "metadata": {},
          "execution_count": 116
        },
        {
          "output_type": "display_data",
          "data": {
            "image/png": "[encoded data removed]",
            "text/plain": [
              "<Figure size 460.375x360 with 1 Axes>"
            ]
          },
          "metadata": {
            "needs_background": "light"
          }
        }
      ]
    },
    {
      "cell_type": "code",
      "metadata": {
        "id": "Mkt9VT77T-Tt"
      },
      "source": [
        "AvocadoYearTypePivot=Avocado.pivot_table(values='TotalBags',index='Year',columns='type')"
      ],
      "execution_count": 117,
      "outputs": []
    },
    {
      "cell_type": "code",
      "metadata": {
        "colab": {
          "base_uri": "https://localhost:8080/",
          "height": 204
        },
        "id": "s8efn6iUVR2M",
        "outputId": "2bf3c425-970c-4884-91e7-1c7b84a5af08"
      },
      "source": [
        "AvocadoYearTypePivot.head()"
      ],
      "execution_count": 59,
      "outputs": [
        {
          "output_type": "execute_result",
          "data": {
            "text/html": [
              "<div>\n",
              "<style scoped>\n",
              "    .dataframe tbody tr th:only-of-type {\n",
              "        vertical-align: middle;\n",
              "    }\n",
              "\n",
              "    .dataframe tbody tr th {\n",
              "        vertical-align: top;\n",
              "    }\n",
              "\n",
              "    .dataframe thead th {\n",
              "        text-align: right;\n",
              "    }\n",
              "</style>\n",
              "<table border=\"1\" class=\"dataframe\">\n",
              "  <thead>\n",
              "    <tr style=\"text-align: right;\">\n",
              "      <th>type</th>\n",
              "      <th>conventional</th>\n",
              "      <th>organic</th>\n",
              "    </tr>\n",
              "    <tr>\n",
              "      <th>Year</th>\n",
              "      <th></th>\n",
              "      <th></th>\n",
              "    </tr>\n",
              "  </thead>\n",
              "  <tbody>\n",
              "    <tr>\n",
              "      <th>2015</th>\n",
              "      <td>119560.816378</td>\n",
              "      <td>3358.965030</td>\n",
              "    </tr>\n",
              "    <tr>\n",
              "      <th>2016</th>\n",
              "      <td>230162.555962</td>\n",
              "      <td>10597.658474</td>\n",
              "    </tr>\n",
              "    <tr>\n",
              "      <th>2017</th>\n",
              "      <td>251220.705405</td>\n",
              "      <td>16231.261436</td>\n",
              "    </tr>\n",
              "    <tr>\n",
              "      <th>2018</th>\n",
              "      <td>328095.470503</td>\n",
              "      <td>21510.808247</td>\n",
              "    </tr>\n",
              "  </tbody>\n",
              "</table>\n",
              "</div>"
            ],
            "text/plain": [
              "type   conventional       organic\n",
              "Year                             \n",
              "2015  119560.816378   3358.965030\n",
              "2016  230162.555962  10597.658474\n",
              "2017  251220.705405  16231.261436\n",
              "2018  328095.470503  21510.808247"
            ]
          },
          "metadata": {},
          "execution_count": 59
        }
      ]
    },
    {
      "cell_type": "code",
      "metadata": {
        "colab": {
          "base_uri": "https://localhost:8080/"
        },
        "id": "BBGfiJYYVTst",
        "outputId": "51b03695-85fc-4fd0-a2e9-7f2718ee693a"
      },
      "source": [
        "#Seems like people don't really buy organic avocados. Let's look at the average price per unit for each type. \n",
        "Avocado.groupby('type')['AveragePricePerUnit'].mean() #organic is a bit more expensive. almost 50 cents more "
      ],
      "execution_count": 118,
      "outputs": [
        {
          "output_type": "execute_result",
          "data": {
            "text/plain": [
              "type\n",
              "conventional    1.142122\n",
              "organic         1.627041\n",
              "Name: AveragePricePerUnit, dtype: float64"
            ]
          },
          "metadata": {},
          "execution_count": 118
        }
      ]
    },
    {
      "cell_type": "code",
      "metadata": {
        "colab": {
          "base_uri": "https://localhost:8080/",
          "height": 386
        },
        "id": "pd396MbYXSH1",
        "outputId": "76d30f7a-7b81-4cd0-a562-75415b4a2520"
      },
      "source": [
        "#Did the average price per avocado change over the years? \n",
        "sb.catplot(x='Year',y='AveragePricePerUnit',kind='bar',data=Avocado)"
      ],
      "execution_count": 119,
      "outputs": [
        {
          "output_type": "execute_result",
          "data": {
            "text/plain": [
              "<seaborn.axisgrid.FacetGrid at 0x7f27a385c2d0>"
            ]
          },
          "metadata": {},
          "execution_count": 119
        },
        {
          "output_type": "display_data",
          "data": {
            "image/png": "[encoded data removed]",
            "text/plain": [
              "<Figure size 360x360 with 1 Axes>"
            ]
          },
          "metadata": {
            "needs_background": "light"
          }
        }
      ]
    },
    {
      "cell_type": "code",
      "metadata": {
        "colab": {
          "base_uri": "https://localhost:8080/",
          "height": 483
        },
        "id": "ecXqUGXKXoRt",
        "outputId": "51441264-2c33-4722-b99b-c1e9fea4784a"
      },
      "source": [
        "#plot of Avocado average per unit price -- by region \n",
        "sb.catplot(x='region',y='AveragePricePerUnit',kind='bar',data=Avocado)\n",
        "plt.xticks(rotation=90)"
      ],
      "execution_count": 121,
      "outputs": [
        {
          "output_type": "execute_result",
          "data": {
            "text/plain": [
              "(array([0, 1, 2, 3, 4, 5, 6]), <a list of 7 Text major ticklabel objects>)"
            ]
          },
          "metadata": {},
          "execution_count": 121
        },
        {
          "output_type": "display_data",
          "data": {
            "image/png": "[encoded data removed]",
            "text/plain": [
              "<Figure size 360x360 with 1 Axes>"
            ]
          },
          "metadata": {
            "needs_background": "light"
          }
        }
      ]
    },
    {
      "cell_type": "code",
      "metadata": {
        "colab": {
          "base_uri": "https://localhost:8080/",
          "height": 297
        },
        "id": "OTQ5SOuVkI-u",
        "outputId": "7d1139ad-0300-4a42-9f56-1d9aba3f82bb"
      },
      "source": [
        "#average price per region table : include, year \n",
        "\n",
        "AvgRegionYear=Avocado.pivot_table(values='AveragePricePerUnit',index='region',columns='Year')\n",
        "AvgRegionYear"
      ],
      "execution_count": 123,
      "outputs": [
        {
          "output_type": "execute_result",
          "data": {
            "text/html": [
              "<div>\n",
              "<style scoped>\n",
              "    .dataframe tbody tr th:only-of-type {\n",
              "        vertical-align: middle;\n",
              "    }\n",
              "\n",
              "    .dataframe tbody tr th {\n",
              "        vertical-align: top;\n",
              "    }\n",
              "\n",
              "    .dataframe thead th {\n",
              "        text-align: right;\n",
              "    }\n",
              "</style>\n",
              "<table border=\"1\" class=\"dataframe\">\n",
              "  <thead>\n",
              "    <tr style=\"text-align: right;\">\n",
              "      <th>Year</th>\n",
              "      <th>2015</th>\n",
              "      <th>2016</th>\n",
              "      <th>2017</th>\n",
              "      <th>2018</th>\n",
              "    </tr>\n",
              "    <tr>\n",
              "      <th>region</th>\n",
              "      <th></th>\n",
              "      <th></th>\n",
              "      <th></th>\n",
              "      <th></th>\n",
              "    </tr>\n",
              "  </thead>\n",
              "  <tbody>\n",
              "    <tr>\n",
              "      <th>Midsouth</th>\n",
              "      <td>1.351346</td>\n",
              "      <td>1.350865</td>\n",
              "      <td>1.520566</td>\n",
              "      <td>1.358333</td>\n",
              "    </tr>\n",
              "    <tr>\n",
              "      <th>Northeast</th>\n",
              "      <td>1.543750</td>\n",
              "      <td>1.595673</td>\n",
              "      <td>1.694057</td>\n",
              "      <td>1.474167</td>\n",
              "    </tr>\n",
              "    <tr>\n",
              "      <th>NorthernNewEngland</th>\n",
              "      <td>1.473365</td>\n",
              "      <td>1.392692</td>\n",
              "      <td>1.577170</td>\n",
              "      <td>1.421250</td>\n",
              "    </tr>\n",
              "    <tr>\n",
              "      <th>Plains</th>\n",
              "      <td>1.437885</td>\n",
              "      <td>1.377500</td>\n",
              "      <td>1.510472</td>\n",
              "      <td>1.359583</td>\n",
              "    </tr>\n",
              "    <tr>\n",
              "      <th>SouthCentral</th>\n",
              "      <td>1.112019</td>\n",
              "      <td>1.026923</td>\n",
              "      <td>1.162830</td>\n",
              "      <td>1.104583</td>\n",
              "    </tr>\n",
              "    <tr>\n",
              "      <th>Southeast</th>\n",
              "      <td>1.414712</td>\n",
              "      <td>1.286923</td>\n",
              "      <td>1.512170</td>\n",
              "      <td>1.302917</td>\n",
              "    </tr>\n",
              "    <tr>\n",
              "      <th>West</th>\n",
              "      <td>1.237788</td>\n",
              "      <td>1.180865</td>\n",
              "      <td>1.390000</td>\n",
              "      <td>1.297083</td>\n",
              "    </tr>\n",
              "  </tbody>\n",
              "</table>\n",
              "</div>"
            ],
            "text/plain": [
              "Year                    2015      2016      2017      2018\n",
              "region                                                    \n",
              "Midsouth            1.351346  1.350865  1.520566  1.358333\n",
              "Northeast           1.543750  1.595673  1.694057  1.474167\n",
              "NorthernNewEngland  1.473365  1.392692  1.577170  1.421250\n",
              "Plains              1.437885  1.377500  1.510472  1.359583\n",
              "SouthCentral        1.112019  1.026923  1.162830  1.104583\n",
              "Southeast           1.414712  1.286923  1.512170  1.302917\n",
              "West                1.237788  1.180865  1.390000  1.297083"
            ]
          },
          "metadata": {},
          "execution_count": 123
        }
      ]
    },
    {
      "cell_type": "code",
      "metadata": {
        "id": "vRZpp0kAqSX1"
      },
      "source": [
        "#Write a function to plot the sum of bags sold by region for a particular year ...make sure the plot sorts from least to greatest \n",
        "#function takes column as input as well as year as input. \n",
        "\n",
        "def AvoYear(col,YY):\n",
        "  AvocadoYear=Avocado[Avocado['Year']==YY]\n",
        "  AvocadoYearRegion=AvocadoYear.groupby('region')[col].sum().reset_index()\n",
        "  AvocadoYearRegion=AvocadoYearRegion.sort_values(col)\n",
        "  sb.catplot(x='region',y=col,kind='bar',data=AvocadoYearRegion)\n",
        "  plt.xticks(rotation=90)\n"
      ],
      "execution_count": 128,
      "outputs": []
    },
    {
      "cell_type": "code",
      "metadata": {
        "colab": {
          "base_uri": "https://localhost:8080/",
          "height": 466
        },
        "id": "QgLkJNB1yImj",
        "outputId": "b0ea081b-8328-4999-defc-a69ed448f912"
      },
      "source": [
        "AvoYear('TotalBags',2018)"
      ],
      "execution_count": 129,
      "outputs": [
        {
          "output_type": "display_data",
          "data": {
            "image/png": "[encoded data removed]",
            "text/plain": [
              "<Figure size 360x360 with 1 Axes>"
            ]
          },
          "metadata": {
            "needs_background": "light"
          }
        }
      ]
    },
    {
      "cell_type": "code",
      "metadata": {
        "colab": {
          "base_uri": "https://localhost:8080/",
          "height": 466
        },
        "id": "4qxIroPDyKsF",
        "outputId": "0a5fc7b8-8fa7-494c-bfbd-c487a2e67e8e"
      },
      "source": [
        "AvoYear('SmallBags',2016)"
      ],
      "execution_count": 130,
      "outputs": [
        {
          "output_type": "display_data",
          "data": {
            "image/png": "[encoded data removed]",
            "text/plain": [
              "<Figure size 360x360 with 1 Axes>"
            ]
          },
          "metadata": {
            "needs_background": "light"
          }
        }
      ]
    },
    {
      "cell_type": "code",
      "metadata": {
        "id": "AObA5zPsyxZ0"
      },
      "source": [
        ""
      ],
      "execution_count": null,
      "outputs": []
    }
  ]
}