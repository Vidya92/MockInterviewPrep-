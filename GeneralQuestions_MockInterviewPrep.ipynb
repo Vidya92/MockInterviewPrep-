{
  "nbformat": 4,
  "nbformat_minor": 0,
  "metadata": {
    "colab": {
      "name": "GeneralQuestions_MockInterviewPrep.ipynb",
      "provenance": [],
      "collapsed_sections": [],
      "authorship_tag": "ABX9TyN38Q8pQABo+Jw8IiBGfai0",
      "include_colab_link": true
    },
    "kernelspec": {
      "name": "python3",
      "display_name": "Python 3"
    },
    "language_info": {
      "name": "python"
    }
  },
  "cells": [
    {
      "cell_type": "markdown",
      "metadata": {
        "id": "view-in-github",
        "colab_type": "text"
      },
      "source": [
        "<a href=\"https://colab.research.google.com/github/Vidya92/MockInterviewPrep-/blob/main/GeneralQuestions_MockInterviewPrep.ipynb\" target=\"_parent\"><img src=\"https://colab.research.google.com/assets/colab-badge.svg\" alt=\"Open In Colab\"/></a>"
      ]
    },
    {
      "cell_type": "code",
      "metadata": {
        "id": "zL_mYAuheRBy"
      },
      "source": [
        "#Avocado dataset!! "
      ],
      "execution_count": null,
      "outputs": []
    },
    {
      "cell_type": "code",
      "metadata": {
        "id": "IFg9DuqUm9Kr"
      },
      "source": [
        "import numpy as np \n",
        "import pandas as pd "
      ],
      "execution_count": null,
      "outputs": []
    },
    {
      "cell_type": "code",
      "metadata": {
        "id": "3Y_2gH9oebc-"
      },
      "source": [
        "#let's load Avocado Data! \n",
        "AvocadoSold=pd.read_csv('https://raw.githubusercontent.com/Vidya92/MockInterviewPrep-/main/AvocadoSold.csv')\n",
        "MoreAvocados=pd.read_csv('https://raw.githubusercontent.com/Vidya92/MockInterviewPrep-/main/MoreAvocados%20.csv')"
      ],
      "execution_count": null,
      "outputs": []
    },
    {
      "cell_type": "code",
      "metadata": {
        "id": "5W6-syaielY8"
      },
      "source": [
        "#Print shape of both datasets \n"
      ],
      "execution_count": null,
      "outputs": []
    },
    {
      "cell_type": "code",
      "metadata": {
        "id": "wA8djjL8eprs"
      },
      "source": [
        "#Add the data from More Avocados into Avocados Sold.   \n"
      ],
      "execution_count": null,
      "outputs": []
    },
    {
      "cell_type": "code",
      "metadata": {
        "id": "Q73H7AHewYb7"
      },
      "source": [
        "#Do we have missing values? Where? What can we do? \n"
      ],
      "execution_count": null,
      "outputs": []
    },
    {
      "cell_type": "code",
      "metadata": {
        "id": "pd396MbYXSH1"
      },
      "source": [
        "#Did the average price per avocado change over the years? \n"
      ],
      "execution_count": null,
      "outputs": []
    },
    {
      "cell_type": "code",
      "metadata": {
        "id": "ecXqUGXKXoRt"
      },
      "source": [
        "#plot Avocado average per unit price -- by region \n",
        "#Do you think some regions might have sold more avocados than others yearly?  Let's find out! "
      ],
      "execution_count": null,
      "outputs": []
    },
    {
      "cell_type": "code",
      "metadata": {
        "id": "OTQ5SOuVkI-u"
      },
      "source": [
        "#make a table that tells us the average price per unit by region for each year \n",
        "\n"
      ],
      "execution_count": null,
      "outputs": []
    },
    {
      "cell_type": "code",
      "metadata": {
        "id": "vRZpp0kAqSX1"
      },
      "source": [
        "#Write a function to plot the sum of bags sold by region for a particular year ...make sure the plot sorts from least to greatest for sum of bags (could be small, large, total)\n",
        "#function takes column as input as well as year as input. \n",
        "\n"
      ],
      "execution_count": null,
      "outputs": []
    }
  ]
}